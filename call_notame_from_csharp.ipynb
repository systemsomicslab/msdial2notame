{
 "cells": [
  {
   "cell_type": "code",
   "execution_count": 1,
   "metadata": {
    "dotnet_interactive": {
     "language": "csharp"
    },
    "polyglot_notebook": {
     "kernelName": "csharp"
    }
   },
   "outputs": [
    {
     "name": "stdout",
     "output_type": "stream",
     "text": [
      "This is the first C# Polyglot Notebook!\r\n"
     ]
    }
   ],
   "source": [
    "Console.WriteLine(\"This is the first C# Polyglot Notebook!\");"
   ]
  },
  {
   "cell_type": "code",
   "execution_count": 2,
   "metadata": {
    "dotnet_interactive": {
     "language": "csharp"
    },
    "polyglot_notebook": {
     "kernelName": "csharp"
    }
   },
   "outputs": [
    {
     "data": {
      "text/html": [
       "<div><div></div><div></div><div><strong>Installed Packages</strong><ul><li><span>R.NET, 1.9.0</span></li></ul></div></div>"
      ]
     },
     "metadata": {},
     "output_type": "display_data"
    }
   ],
   "source": [
    "#r \"nuget:R.NET, 1.9.0\""
   ]
  },
  {
   "cell_type": "code",
   "execution_count": 3,
   "metadata": {
    "dotnet_interactive": {
     "language": "csharp"
    },
    "polyglot_notebook": {
     "kernelName": "csharp"
    }
   },
   "outputs": [],
   "source": [
    "using System;"
   ]
  },
  {
   "cell_type": "code",
   "execution_count": 4,
   "metadata": {
    "dotnet_interactive": {
     "language": "csharp"
    },
    "polyglot_notebook": {
     "kernelName": "csharp"
    }
   },
   "outputs": [],
   "source": [
    "\n",
    "using RDotNet;"
   ]
  },
  {
   "cell_type": "code",
   "execution_count": 5,
   "metadata": {
    "dotnet_interactive": {
     "language": "csharp"
    },
    "polyglot_notebook": {
     "kernelName": "csharp"
    }
   },
   "outputs": [],
   "source": [
    "REngine.SetEnvironmentVariables();"
   ]
  },
  {
   "cell_type": "code",
   "execution_count": 6,
   "metadata": {
    "dotnet_interactive": {
     "language": "csharp"
    },
    "polyglot_notebook": {
     "kernelName": "csharp"
    }
   },
   "outputs": [],
   "source": [
    "REngine.SetEnvironmentVariables(\"c:/program files/r/r-4.3.1/bin/x64\", \"c:/program files/r/r-4.3.1\");"
   ]
  },
  {
   "cell_type": "code",
   "execution_count": 8,
   "metadata": {
    "dotnet_interactive": {
     "language": "csharp"
    },
    "polyglot_notebook": {
     "kernelName": "csharp"
    }
   },
   "outputs": [],
   "source": [
    "engine.Evaluate(\"Sys.setenv(PATH = paste(\\\"C:/Program Files/R/R-4.3.1/bin/x64\\\", Sys.getenv(\\\"PATH\\\"), sep=\\\";\\\"))\");"
   ]
  },
  {
   "cell_type": "code",
   "execution_count": 9,
   "metadata": {
    "dotnet_interactive": {
     "language": "csharp"
    },
    "polyglot_notebook": {
     "kernelName": "csharp"
    }
   },
   "outputs": [],
   "source": [
    "var engine = REngine.GetInstance();"
   ]
  },
  {
   "cell_type": "code",
   "execution_count": 10,
   "metadata": {
    "dotnet_interactive": {
     "language": "csharp"
    },
    "polyglot_notebook": {
     "kernelName": "csharp"
    }
   },
   "outputs": [],
   "source": [
    "engine.Evaluate(\"library(stats)\");"
   ]
  },
  {
   "cell_type": "code",
   "execution_count": 13,
   "metadata": {
    "dotnet_interactive": {
     "language": "csharp"
    },
    "polyglot_notebook": {
     "kernelName": "csharp"
    }
   },
   "outputs": [],
   "source": [
    "var result = engine.Evaluate(\"1+2\").AsNumeric()[0];"
   ]
  },
  {
   "cell_type": "code",
   "execution_count": 14,
   "metadata": {
    "dotnet_interactive": {
     "language": "csharp"
    },
    "polyglot_notebook": {
     "kernelName": "csharp"
    }
   },
   "outputs": [
    {
     "name": "stdout",
     "output_type": "stream",
     "text": [
      "3\r\n"
     ]
    }
   ],
   "source": [
    "Console.WriteLine(result);"
   ]
  },
  {
   "cell_type": "code",
   "execution_count": 15,
   "metadata": {
    "dotnet_interactive": {
     "language": "csharp"
    },
    "polyglot_notebook": {
     "kernelName": "csharp"
    }
   },
   "outputs": [],
   "source": [
    "var file100 = engine.Evaluate(\"system.file('extdata', 'sample_data_whole.xlsx', package = 'notame')\").AsCharacter().ToArray()[0];"
   ]
  },
  {
   "cell_type": "code",
   "execution_count": 16,
   "metadata": {
    "dotnet_interactive": {
     "language": "csharp"
    },
    "polyglot_notebook": {
     "kernelName": "csharp"
    }
   },
   "outputs": [
    {
     "name": "stdout",
     "output_type": "stream",
     "text": [
      "C:/Users/knishida/AppData/Local/R/win-library/4.3/notame/extdata/sample_data_whole.xlsx\r\n"
     ]
    }
   ],
   "source": [
    "Console.WriteLine(file100);"
   ]
  },
  {
   "cell_type": "code",
   "execution_count": 17,
   "metadata": {
    "dotnet_interactive": {
     "language": "csharp"
    },
    "polyglot_notebook": {
     "kernelName": "csharp"
    }
   },
   "outputs": [],
   "source": [
    "var data = engine.Evaluate(\"notame::read_from_excel(file = system.file('extdata', 'sample_data_whole.xlsx', package = 'notame'), sheet = 1, corner_row = 4, corner_column = 'X', split_by = c('Column', 'Ion mode')\");"
   ]
  },
  {
   "cell_type": "code",
   "execution_count": 18,
   "metadata": {
    "dotnet_interactive": {
     "language": "csharp"
    },
    "polyglot_notebook": {
     "kernelName": "csharp"
    }
   },
   "outputs": [
    {
     "name": "stdout",
     "output_type": "stream",
     "text": [
      "\r\n"
     ]
    }
   ],
   "source": [
    "Console.WriteLine(data);"
   ]
  },
  {
   "cell_type": "code",
   "execution_count": 22,
   "metadata": {
    "dotnet_interactive": {
     "language": "csharp"
    },
    "polyglot_notebook": {
     "kernelName": "csharp"
    }
   },
   "outputs": [
    {
     "name": "stdout",
     "output_type": "stream",
     "text": [
      "Error: package or namespace load failed for 'notame' in runHook(\".onLoad\", env, package.lib, package):\n",
      " lazy-load database 'C:/Users/knishida/AppData/Local/R/win-library/4.3/notame/R/notame.rdb' is corrupt\n",
      "In addition: Warning message:\n",
      "In runHook(\".onLoad\", env, package.lib, package) :\n",
      "  internal error -3 in R_decompress1\n"
     ]
    },
    {
     "ename": "Error",
     "evalue": "RDotNet.EvaluationException: Error: package or namespace load failed for 'notame' in runHook(\".onLoad\", env, package.lib, package):\n lazy-load database 'C:/Users/knishida/AppData/Local/R/win-library/4.3/notame/R/notame.rdb' is corrupt\n\r\n   at RDotNet.REngine.Parse(String statement, StringBuilder incompleteStatement, REnvironment environment)\r\n   at RDotNet.REngine.Defer(String statement, REnvironment environment)+MoveNext()\r\n   at System.Linq.Enumerable.TryGetLast[TSource](IEnumerable`1 source, Boolean& found)\r\n   at System.Linq.Enumerable.LastOrDefault[TSource](IEnumerable`1 source)\r\n   at RDotNet.REngine.Evaluate(String statement, REnvironment environment)\r\n   at Submission#22.<<Initialize>>d__0.MoveNext()\r\n--- End of stack trace from previous location ---\r\n   at Microsoft.CodeAnalysis.Scripting.ScriptExecutionState.RunSubmissionsAsync[TResult](ImmutableArray`1 precedingExecutors, Func`2 currentExecutor, StrongBox`1 exceptionHolderOpt, Func`2 catchExceptionOpt, CancellationToken cancellationToken)",
     "output_type": "error",
     "traceback": [
      "RDotNet.EvaluationException: Error: package or namespace load failed for 'notame' in runHook(\".onLoad\", env, package.lib, package):\n",
      " lazy-load database 'C:/Users/knishida/AppData/Local/R/win-library/4.3/notame/R/notame.rdb' is corrupt\n",
      "\r\n",
      "   at RDotNet.REngine.Parse(String statement, StringBuilder incompleteStatement, REnvironment environment)\r\n",
      "   at RDotNet.REngine.Defer(String statement, REnvironment environment)+MoveNext()\r\n",
      "   at System.Linq.Enumerable.TryGetLast[TSource](IEnumerable`1 source, Boolean& found)\r\n",
      "   at System.Linq.Enumerable.LastOrDefault[TSource](IEnumerable`1 source)\r\n",
      "   at RDotNet.REngine.Evaluate(String statement, REnvironment environment)\r\n",
      "   at Submission#22.<<Initialize>>d__0.MoveNext()\r\n",
      "--- End of stack trace from previous location ---\r\n",
      "   at Microsoft.CodeAnalysis.Scripting.ScriptExecutionState.RunSubmissionsAsync[TResult](ImmutableArray`1 precedingExecutors, Func`2 currentExecutor, StrongBox`1 exceptionHolderOpt, Func`2 catchExceptionOpt, CancellationToken cancellationToken)"
     ]
    }
   ],
   "source": [
    "engine.Evaluate(\"library('notame')\");"
   ]
  }
 ],
 "metadata": {
  "kernelspec": {
   "display_name": ".NET (C#)",
   "language": "C#",
   "name": ".net-csharp"
  },
  "language_info": {
   "name": "polyglot-notebook"
  },
  "polyglot_notebook": {
   "kernelInfo": {
    "defaultKernelName": "csharp",
    "items": [
     {
      "aliases": [],
      "languageName": "csharp",
      "name": "csharp"
     }
    ]
   }
  }
 },
 "nbformat": 4,
 "nbformat_minor": 2
}
